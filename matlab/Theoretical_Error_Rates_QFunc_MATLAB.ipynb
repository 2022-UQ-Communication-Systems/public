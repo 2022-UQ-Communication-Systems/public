{
 "cells": [
  {
   "cell_type": "markdown",
   "metadata": {},
   "source": [
    "# Calculating theoretical error rates\n",
    "\n",
    "For testing the functions in this notebook, let's consider a common example of the probability of error in a BPSK communication system.\n",
    "\n",
    "BPSK requires a Eb/N0 of 9.5 dB to achieve a probability of error of 10^-5.\n"
   ]
  },
  {
   "cell_type": "code",
   "execution_count": 1,
   "metadata": {
    "vscode": {
     "languageId": "matlab"
    }
   },
   "outputs": [],
   "source": [
    "% MATLAB / Octave already have a Q function\n",
    "% if you are using Octave, make sure the communication package is loaded\n",
    "% pkg load communications\n",
    "pkg load communications"
   ]
  },
  {
   "cell_type": "markdown",
   "metadata": {},
   "source": [
    "For BPSK:\n",
    "\n",
    "$$ P_e = Q \\left( \\sqrt{ \\frac{2 E_b}{N_0} } \\right) $$\n",
    "\n",
    "or\n",
    "\n",
    "$$ Eb/N0 = \\frac{Q^{-1} \\left( P_e \\right)^2}{2} $$\n"
   ]
  },
  {
   "cell_type": "code",
   "execution_count": 2,
   "metadata": {
    "vscode": {
     "languageId": "matlab"
    }
   },
   "outputs": [
    {
     "name": "stdout",
     "output_type": "stream",
     "text": [
      "Linear EbN0 required: 9.094647\n",
      "EbN0 (dB) required: 9.587858\n"
     ]
    }
   ],
   "source": [
    "Pe = 1e-5; % 10^-5\n",
    "EbN0 = qfuncinv(Pe)^2/2;\n",
    "disp(sprintf(\"Linear EbN0 required: %f\", EbN0))\n",
    "\n",
    "EbN0dB = 10*log10(EbN0);\n",
    "disp(sprintf(\"EbN0 (dB) required: %f\", EbN0dB))"
   ]
  },
  {
   "cell_type": "code",
   "execution_count": 3,
   "metadata": {
    "vscode": {
     "languageId": "matlab"
    }
   },
   "outputs": [
    {
     "name": "stdout",
     "output_type": "stream",
     "text": [
      "Calculated Pe: 0.000010\r\n"
     ]
    }
   ],
   "source": [
    "% and in reverse\n",
    "\n",
    "Pe_calc = qfunc(sqrt(2*EbN0));\n",
    "disp(sprintf(\"Calculated Pe: %f\", Pe_calc))"
   ]
  }
 ],
 "metadata": {
  "kernelspec": {
   "display_name": "Octave",
   "language": "octave",
   "name": "octave"
  },
  "language_info": {
   "file_extension": ".m",
   "help_links": [
    {
     "text": "GNU Octave",
     "url": "https://www.gnu.org/software/octave/support.html"
    },
    {
     "text": "Octave Kernel",
     "url": "https://github.com/Calysto/octave_kernel"
    },
    {
     "text": "MetaKernel Magics",
     "url": "https://metakernel.readthedocs.io/en/latest/source/README.html"
    }
   ],
   "mimetype": "text/x-octave",
   "name": "octave",
   "version": "5.2.0"
  },
  "vscode": {
   "interpreter": {
    "hash": "b460384b52104c1e5b9cf54bee46a255d22b2bef338f75ac4ad5d48196028d3c"
   }
  }
 },
 "nbformat": 4,
 "nbformat_minor": 2
}
