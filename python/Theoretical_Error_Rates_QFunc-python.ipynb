{
 "cells": [
  {
   "cell_type": "markdown",
   "metadata": {},
   "source": [
    "# Calculating theoretical error rates\n",
    "\n",
    "For testing the functions in this notebook, let's consider a common example of the probability of error in a BPSK communication system.\n",
    "\n",
    "BPSK requires a Eb/N0 of 9.5 dB to achieve a probability of error of 10^-5.\n"
   ]
  },
  {
   "cell_type": "code",
   "execution_count": 1,
   "metadata": {},
   "outputs": [],
   "source": [
    "import numpy as np\n",
    "import scipy.special\n",
    "import math\n",
    "\n",
    "import matplotlib.pyplot as plt\n",
    "import matplotlib\n",
    "\n",
    "# These functions are provided to use the Q function representation\n",
    "\n",
    "def qfunc(alpha):\n",
    "    return 0.5 * scipy.special.erfc(alpha/np.sqrt(2))\n",
    "\n",
    "def qfuncinv(alpha):\n",
    "    return np.sqrt(2) * scipy.special.erfcinv(alpha*2)"
   ]
  },
  {
   "cell_type": "markdown",
   "metadata": {},
   "source": [
    "For BPSK:\n",
    "\n",
    "$$ P_e = Q \\left( \\sqrt{ \\frac{2 E_b}{N_0} } \\right) $$\n",
    "\n",
    "or\n",
    "\n",
    "$$ Eb/N0 = \\frac{Q^{-1} \\left( P_e \\right)^2}{2} $$\n"
   ]
  },
  {
   "cell_type": "code",
   "execution_count": 2,
   "metadata": {},
   "outputs": [
    {
     "name": "stdout",
     "output_type": "stream",
     "text": [
      "Linear EbN0 required:  9.094646742043835\n",
      "EbN0 (dB) required:  9.587858346847609\n"
     ]
    }
   ],
   "source": [
    "Pe = 1e-5 # 10^-5\n",
    "EbN0 = qfuncinv(Pe)**2/2\n",
    "print(\"Linear EbN0 required: \", EbN0) # linear\n",
    "\n",
    "EbN0dB = 10*np.log10(EbN0)\n",
    "print(\"EbN0 (dB) required: \", EbN0dB)"
   ]
  },
  {
   "cell_type": "code",
   "execution_count": 3,
   "metadata": {},
   "outputs": [
    {
     "name": "stdout",
     "output_type": "stream",
     "text": [
      "Calculated Pe:  9.99999999999997e-06\n"
     ]
    }
   ],
   "source": [
    "# and in reverse\n",
    "\n",
    "Pe_calc = qfunc(np.sqrt(2*EbN0))\n",
    "print(\"Calculated Pe: \", Pe_calc)"
   ]
  }
 ],
 "metadata": {
  "kernelspec": {
   "display_name": "Python 3.10.2 64-bit",
   "language": "python",
   "name": "python3"
  },
  "language_info": {
   "codemirror_mode": {
    "name": "ipython",
    "version": 3
   },
   "file_extension": ".py",
   "mimetype": "text/x-python",
   "name": "python",
   "nbconvert_exporter": "python",
   "pygments_lexer": "ipython3",
   "version": "3.10.2"
  },
  "orig_nbformat": 4,
  "vscode": {
   "interpreter": {
    "hash": "b460384b52104c1e5b9cf54bee46a255d22b2bef338f75ac4ad5d48196028d3c"
   }
  }
 },
 "nbformat": 4,
 "nbformat_minor": 2
}
