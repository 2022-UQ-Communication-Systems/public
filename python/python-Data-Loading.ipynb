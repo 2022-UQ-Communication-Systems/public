{
 "cells": [
  {
   "cell_type": "markdown",
   "id": "dc9cbfdc",
   "metadata": {},
   "source": [
    "# Reading in data from rtl_sdr\n",
    "\n",
    "In python, two versions of the function `read_complex_byte` are shown below.\n",
    "\n",
    "They both allow you to read in a number of bytes from a dump file.\n",
    "\n",
    "The syntax is:\n",
    "\n",
    "    read_complex_byte_old(FILENAME, NUMBYTES)\n",
    "    read_complex_byte(FILENAME)\n",
    "    \n",
    "where filename might be `dump.bin` and M might be 1e6 (1 million) - the number of samples to read.\n",
    "\n",
    "In the second version of the function, the NUMBYTES can be ommitted, and then it will default to reading the whole file. The second one is much faster than the first one."
   ]
  },
  {
   "cell_type": "code",
   "execution_count": 1,
   "id": "5e745fd2",
   "metadata": {},
   "outputs": [],
   "source": [
    "import struct\n",
    "import numpy as np\n",
    "\n",
    "def read_complex_byte_old(filename, MAX_SAMPLES):\n",
    "    row_fmt = '={}B'.format('')  # \"=\" prefix means integers in native byte-order\n",
    "    row_len = struct.calcsize(row_fmt)\n",
    "    result = np.array((0,0))\n",
    "    with open(filename, \"rb\" ) as input:\n",
    "        for col in range(MAX_SAMPLES):\n",
    "            reals = struct.unpack(row_fmt, input.read(row_len))\n",
    "            imags = struct.unpack(row_fmt, input.read(row_len))\n",
    "            cmplx = [complex(r-128,i-128)/128 for r,i in zip(reals, imags)]\n",
    "            result = np.append(result, (cmplx))\n",
    "    return result\n"
   ]
  },
  {
   "cell_type": "code",
   "execution_count": 2,
   "id": "52a3d889",
   "metadata": {},
   "outputs": [],
   "source": [
    "def read_complex_byte(filename, MAX_SAMPLES=-1):\n",
    "    data = np.fromfile(filename, dtype=np.dtype('B'), count=MAX_SAMPLES)\n",
    "    normdata = (np.array(data, dtype=float)-127)/128\n",
    "    normdata.dtype = complex\n",
    "    return normdata"
   ]
  },
  {
   "cell_type": "code",
   "execution_count": null,
   "metadata": {},
   "outputs": [],
   "source": [
    "# To skip copying this code into your notebook, you can use it as a module\n",
    "# save loadutil.py in the same directory as your notebook and import it as follows:\n",
    "import loadutil\n",
    "data = loadutil.read_complex_byte('freqA.bin')"
   ]
  }
 ],
 "metadata": {
  "kernelspec": {
   "display_name": "Python 3.10.6 64-bit",
   "language": "python",
   "name": "python3"
  },
  "language_info": {
   "codemirror_mode": {
    "name": "ipython",
    "version": 3
   },
   "file_extension": ".py",
   "mimetype": "text/x-python",
   "name": "python",
   "nbconvert_exporter": "python",
   "pygments_lexer": "ipython3",
   "version": "3.10.6"
  },
  "vscode": {
   "interpreter": {
    "hash": "8f9328efe3468e6c370cdfed98702d3986faf748314d5bcec59da615d65baa7a"
   }
  }
 },
 "nbformat": 4,
 "nbformat_minor": 1
}
